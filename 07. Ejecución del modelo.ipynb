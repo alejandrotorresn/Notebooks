{
 "cells": [
  {
   "cell_type": "markdown",
   "metadata": {},
   "source": [
    "# Ejecución del Modelo"
   ]
  },
  {
   "cell_type": "markdown",
   "metadata": {},
   "source": [
    "### A tener en cuenta\n",
    "\n",
    "Cada modelo espera **características** diferentes para realizar la predicción. Por lo tanto, los datos deben corresponder y estar en el orden que se muestra a continuación:\n",
    "\n",
    "- **Modelo global base**\n",
    " - LATITUDE_meters\n",
    " - LONGITUDE_meters\n",
    " - Velocity\n",
    " - Angle_V\n",
    " - dist_Tbar\n",
    "- **Modelo global base + acceleration**\n",
    " - LATITUDE_meters\n",
    " - LONGITUDE_meters\n",
    " - Velocity\n",
    " - Angle_V\n",
    " - Acceleration\n",
    " - Angle_A\n",
    " - dist_Tbar\n",
    "- **Modelo global base + wind**\n",
    " - LATITUDE_meters\n",
    " - LONGITUDE_meters\n",
    " - Velocity\n",
    " - Angle_V\n",
    " - Velocity_p\n",
    "- **Modelo global base por aerolinea**\n",
    " - LATITUDE_meters\n",
    " - LONGITUDE_meters\n",
    " - Velocity\n",
    " - Angle_V\n",
    " - dist_Tbar\n"
   ]
  },
  {
   "cell_type": "code",
   "execution_count": 132,
   "metadata": {},
   "outputs": [],
   "source": [
    "%matplotlib inline\n",
    "import matplotlib.pyplot as plt\n",
    "import pandas as pd\n",
    "import numpy as np\n",
    "from sklearn.externals import joblib\n",
    "from sklearn.metrics import mean_absolute_error\n",
    "\n",
    "\n",
    "import warnings\n",
    "warnings.filterwarnings('ignore')"
   ]
  },
  {
   "cell_type": "code",
   "execution_count": 133,
   "metadata": {},
   "outputs": [],
   "source": [
    "%run functions_exec.py"
   ]
  },
  {
   "cell_type": "markdown",
   "metadata": {},
   "source": [
    "## Cargar el modelo entrenado"
   ]
  },
  {
   "cell_type": "code",
   "execution_count": 134,
   "metadata": {},
   "outputs": [],
   "source": [
    "name_model = 'model_1_Global_base.pkl'\n",
    "path_model = 'model/'"
   ]
  },
  {
   "cell_type": "code",
   "execution_count": 135,
   "metadata": {},
   "outputs": [],
   "source": [
    "RFM = joblib.load(path_model + name_model)"
   ]
  },
  {
   "cell_type": "markdown",
   "metadata": {},
   "source": [
    "----------------"
   ]
  },
  {
   "cell_type": "markdown",
   "metadata": {},
   "source": [
    "# 1. Predicción para los puntos de un vuelo\n",
    "\n",
    "Para realizar predicciones con un vuelo del que se conocen todos sun puntos hasta el momento de ingreso a la Tbar (se conoce el target) se debe:\n",
    "\n",
    "1. Preprocesar los datos del vuelo.\n",
    "2. Seleccionar las características correspondientes al modelos que se desea implementar para la predicción.\n",
    "3. Obtener las predicciones con la función **predict()** del modelo implementado.\n",
    "\n",
    "Una vez obtenidos los resultados de las predicciones se obtiene el error promedio absoluto al comparar los resultados de la predicción con el target con el que se cuenta en el dataset preprocesado."
   ]
  },
  {
   "cell_type": "markdown",
   "metadata": {},
   "source": [
    "## Preprocesar los datos del vuelo"
   ]
  },
  {
   "cell_type": "code",
   "execution_count": 136,
   "metadata": {},
   "outputs": [],
   "source": [
    "# Archivo que contiene los datos de la Tbar.\n",
    "# Este debe ser cargado para determinar si el vuelo\n",
    "# tiene puntos que pasen por la Tbar, determinar a que Tbar se \n",
    "# dirige si existe más de una Tbar, entre otros parámetros \n",
    "# necesarios. Estos son explicados en el Notebook 01.\n",
    "path_tbar = 'datasets/points.csv'\n",
    "\n",
    "# Ruta en donde se encuentra el archivo con los datos de un vuelo\n",
    "path_dataset = 'test/flight_id_301.csv'\n",
    "\n",
    "# Estos datos se encuentran descritos en el notebook 01. Son usados para \n",
    "# filtrar los puntos de la trayectoría de un vuelo\n",
    "radio_filter = 600000\n",
    "T = 5\n",
    "\n",
    "# Llamado de la función de preprocesado\n",
    "data_flight = transform_dataset(path_tbar, path_dataset, radio_filter, T)"
   ]
  },
  {
   "cell_type": "code",
   "execution_count": 137,
   "metadata": {},
   "outputs": [],
   "source": [
    "# Las condiciones de preprocesado son:\n",
    "# - El vuelo tenga puntos de su trayectoría dentro del área circular demarcada\n",
    "#   por el radio desde el punto rwy de la Tbar\n",
    "#   (ó punto medio de los puntos rwy, si existe más de una Tbar)\n",
    "# - El vuelo pase sobre la Tbar\n",
    "\n",
    "if data_flight.empty:\n",
    "    print('El vuelo no tiene cumple las condiciones de preprocesado')"
   ]
  },
  {
   "cell_type": "markdown",
   "metadata": {},
   "source": [
    "## Leer las características necesarios para el modelo cargado"
   ]
  },
  {
   "cell_type": "code",
   "execution_count": 138,
   "metadata": {},
   "outputs": [],
   "source": [
    "X = data_flight[['LATITUDE_meters', 'LONGITUDE_meters', \n",
    "          'Velocity', 'Angle_V',\n",
    "          'dist_Tbar']]\n",
    "\n",
    "y = data_flight['Target_sec']"
   ]
  },
  {
   "cell_type": "markdown",
   "metadata": {},
   "source": [
    "## Realizar las predicciones del vuelo cargado"
   ]
  },
  {
   "cell_type": "code",
   "execution_count": 139,
   "metadata": {},
   "outputs": [],
   "source": [
    "y_pred = RFM.predict(X)"
   ]
  },
  {
   "cell_type": "markdown",
   "metadata": {},
   "source": [
    "## Error promedio de la predicción"
   ]
  },
  {
   "cell_type": "code",
   "execution_count": 140,
   "metadata": {},
   "outputs": [
    {
     "name": "stdout",
     "output_type": "stream",
     "text": [
      "Mean absolute error Test: 10.95 seconds\n"
     ]
    }
   ],
   "source": [
    "print('Mean absolute error Test: %.2f' % mean_absolute_error(y, y_pred) + ' seconds')"
   ]
  },
  {
   "cell_type": "code",
   "execution_count": 141,
   "metadata": {},
   "outputs": [],
   "source": [
    "error = Error_point(y_pred, y)\n",
    "error = error.reset_index(drop=True)"
   ]
  },
  {
   "cell_type": "markdown",
   "metadata": {},
   "source": [
    "-----------\n",
    "## Métricas\n",
    "\n",
    "-----------"
   ]
  },
  {
   "cell_type": "code",
   "execution_count": 142,
   "metadata": {},
   "outputs": [],
   "source": [
    "data_predict = pd.DataFrame()\n",
    "df_dist_Tbar = X['dist_Tbar']\n",
    "df_dist_Tbar = df_dist_Tbar.reset_index(drop=True)\n",
    "\n",
    "data_predict = pd.concat([data_predict, df_dist_Tbar], axis=1)\n",
    "data_predict = data_predict.reset_index(drop=True)\n",
    "\n",
    "\n",
    "data_predict = pd.concat([data_predict, error], axis=1)\n",
    "data_predict = data_predict.rename(columns={'dist_Tbar' : 'Dist', \n",
    "                                         'Target_sec' : 'Error'})\n",
    "data_predict = data_predict.reset_index(drop=True)"
   ]
  },
  {
   "cell_type": "code",
   "execution_count": 143,
   "metadata": {},
   "outputs": [],
   "source": [
    "delta_dist = 2000\n",
    "max_dist = 100000\n",
    "data_range = data_range_(delta_dist, max_dist, data_predict)\n",
    "data_range = data_range.reset_index(drop=True)"
   ]
  },
  {
   "cell_type": "code",
   "execution_count": 144,
   "metadata": {
    "scrolled": false
   },
   "outputs": [
    {
     "data": {
      "text/plain": [
       "(0, 100)"
      ]
     },
     "execution_count": 144,
     "metadata": {},
     "output_type": "execute_result"
    },
    {
     "data": {
      "image/png": "[encoded data removed]",
      "text/plain": [
       "<matplotlib.figure.Figure at 0x7f984fc73f60>"
      ]
     },
     "metadata": {},
     "output_type": "display_data"
    }
   ],
   "source": [
    "plt.figure(figsize=(17,6))\n",
    "plt.subplot(111)\n",
    "\n",
    "# train score\n",
    "plt.plot(data_range['Range'].values, \n",
    "         data_range['mean_RF'].values, \n",
    "         color='r', \n",
    "         linewidth=0.5, \n",
    "         marker='o', \n",
    "         markersize=5, \n",
    "         label=name_model)\n",
    "plt.fill_between(data_range['Range'].values, \n",
    "                 data_range['mean_RF'].values + data_range['std_RF'].values, \n",
    "                 data_range['mean_RF'].values - data_range['std_RF'].values,\n",
    "                 alpha=0.15, \n",
    "                 color='r')\n",
    "\n",
    "\n",
    "plt.grid(linestyle='--')\n",
    "plt.title('Resultados ' + name_model)\n",
    "plt.legend(loc='lower right')\n",
    "plt.xlabel('Rangos (Km)')\n",
    "plt.ylabel('Error de predicción (s)');\n",
    "plt.xticks(data_range['Range'])\n",
    "plt.yticks(range(0,100,10))\n",
    "plt.ylim(0, 100)\n"
   ]
  },
  {
   "cell_type": "markdown",
   "metadata": {},
   "source": [
    "--------------------\n",
    "\n",
    "--------------------"
   ]
  },
  {
   "cell_type": "markdown",
   "metadata": {},
   "source": [
    "# 2. Para un punto\n",
    "\n",
    "Para realizar la predicción de un punto dado del vuelo en donde no se conoce el target se debe:\n",
    "\n",
    "1. Preprocesar el punto del vuelo.\n",
    "3. Seleccionar las características correspondientes al modelos que se desea implementar para la predicción.\n",
    "4. Obtener las predicciones con la función **predict()** del modelo implementado.\n",
    "\n",
    "Una vez obtenidos los resultados de las predicciones se obtiene el error promedio absoluto al comparar los resultados de la predicción con el target con el que se cuenta en el dataset preprocesado."
   ]
  },
  {
   "cell_type": "markdown",
   "metadata": {},
   "source": [
    "## Preprocesar un punto de un vuelo"
   ]
  },
  {
   "cell_type": "code",
   "execution_count": 166,
   "metadata": {},
   "outputs": [],
   "source": [
    "# Archivo que contiene los datos de la Tbar.\n",
    "# Este debe ser cargado para determinar la distancia \n",
    "# desde el punto hasta la intercepción con la Tbar\n",
    "path_tbar = 'datasets/points.csv'\n",
    "\n",
    "# Ruta en donde se encuentra el archivo con los datos de un vuelo\n",
    "path_point = 'test/point_flight_577.csv'\n",
    "\n",
    "\n",
    "# Especificar a que Tbar se dirige el vuelo y a que punto de la misma\n",
    "# Esto es necesario para calcular la distancia a la Tbar y realizar la predicción\n",
    "name_tbar = 'tbar2'\n",
    "point_tbar = 'center'\n",
    "\n",
    "\n",
    "# Llamado de la función de preprocesado\n",
    "data_point = transform_point(name_tbar, point_tbar, path_tbar, path_point)"
   ]
  },
  {
   "cell_type": "code",
   "execution_count": 167,
   "metadata": {},
   "outputs": [
    {
     "data": {
      "text/html": [
       "<div>\n",
       "<style scoped>\n",
       "    .dataframe tbody tr th:only-of-type {\n",
       "        vertical-align: middle;\n",
       "    }\n",
       "\n",
       "    .dataframe tbody tr th {\n",
       "        vertical-align: top;\n",
       "    }\n",
       "\n",
       "    .dataframe thead th {\n",
       "        text-align: right;\n",
       "    }\n",
       "</style>\n",
       "<table border=\"1\" class=\"dataframe\">\n",
       "  <thead>\n",
       "    <tr style=\"text-align: right;\">\n",
       "      <th></th>\n",
       "      <th>ID</th>\n",
       "      <th>CALLSIGN</th>\n",
       "      <th>AC_REAL_MODEL</th>\n",
       "      <th>Tbar</th>\n",
       "      <th>LATITUDE_meters</th>\n",
       "      <th>LONGITUDE_meters</th>\n",
       "      <th>Velocity</th>\n",
       "      <th>Angle_V</th>\n",
       "      <th>Acceleration</th>\n",
       "      <th>Angle_A</th>\n",
       "      <th>dist_Tbar</th>\n",
       "      <th>Velocity_p</th>\n",
       "    </tr>\n",
       "  </thead>\n",
       "  <tbody>\n",
       "    <tr>\n",
       "      <th>0</th>\n",
       "      <td>577</td>\n",
       "      <td>WZZ2490</td>\n",
       "      <td>unknown</td>\n",
       "      <td>tbar2</td>\n",
       "      <td>6.120440e+06</td>\n",
       "      <td>2.345641e+06</td>\n",
       "      <td>204.99761</td>\n",
       "      <td>-1.561706</td>\n",
       "      <td>0.064306</td>\n",
       "      <td>0.0</td>\n",
       "      <td>218030.938167</td>\n",
       "      <td>-0.027588</td>\n",
       "    </tr>\n",
       "  </tbody>\n",
       "</table>\n",
       "</div>"
      ],
      "text/plain": [
       "    ID CALLSIGN AC_REAL_MODEL   Tbar  LATITUDE_meters  LONGITUDE_meters  \\\n",
       "0  577  WZZ2490       unknown  tbar2     6.120440e+06      2.345641e+06   \n",
       "\n",
       "    Velocity   Angle_V  Acceleration  Angle_A      dist_Tbar  Velocity_p  \n",
       "0  204.99761 -1.561706      0.064306      0.0  218030.938167   -0.027588  "
      ]
     },
     "execution_count": 167,
     "metadata": {},
     "output_type": "execute_result"
    }
   ],
   "source": [
    "data_point"
   ]
  },
  {
   "cell_type": "markdown",
   "metadata": {},
   "source": [
    "## Leer las características necesarios para el modelo cargado"
   ]
  },
  {
   "cell_type": "code",
   "execution_count": 168,
   "metadata": {},
   "outputs": [],
   "source": [
    "X = data_point[['LATITUDE_meters', 'LONGITUDE_meters', \n",
    "          'Velocity', 'Angle_V',\n",
    "          'dist_Tbar']]"
   ]
  },
  {
   "cell_type": "markdown",
   "metadata": {},
   "source": [
    "## Realizar la predicción sobre el punto que se ha cargado "
   ]
  },
  {
   "cell_type": "code",
   "execution_count": 169,
   "metadata": {},
   "outputs": [],
   "source": [
    "y_pred = RFM.predict(X)"
   ]
  },
  {
   "cell_type": "code",
   "execution_count": 170,
   "metadata": {},
   "outputs": [
    {
     "name": "stdout",
     "output_type": "stream",
     "text": [
      "Tiempo hasta la tbar2: 882.911271186 seconds\n"
     ]
    }
   ],
   "source": [
    "print('Tiempo hasta la ' + name_tbar + ': ' + str(y_pred[0]) +  ' seconds')"
   ]
  },
  {
   "cell_type": "code",
   "execution_count": null,
   "metadata": {},
   "outputs": [],
   "source": []
  }
 ],
 "metadata": {
  "kernelspec": {
   "display_name": "Python 3",
   "language": "python",
   "name": "python3"
  },
  "language_info": {
   "codemirror_mode": {
    "name": "ipython",
    "version": 3
   },
   "file_extension": ".py",
   "mimetype": "text/x-python",
   "name": "python",
   "nbconvert_exporter": "python",
   "pygments_lexer": "ipython3",
   "version": "3.6.3"
  }
 },
 "nbformat": 4,
 "nbformat_minor": 2
}
