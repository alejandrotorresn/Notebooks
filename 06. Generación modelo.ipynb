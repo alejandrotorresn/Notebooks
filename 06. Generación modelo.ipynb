{
 "cells": [
  {
   "cell_type": "markdown",
   "metadata": {},
   "source": [
    "# Generación del Modelo\n",
    "\n",
    "Este notebook tiene la finalidad de guardar el modelo entrenado para su posterior ejecución. Una vez evaluado los modelos bajo diferentes configuraciones, estas pueden ser ingresadas enla sección de parámetros que se encuentra a continuación."
   ]
  },
  {
   "cell_type": "markdown",
   "metadata": {},
   "source": [
    "--------------------------\n",
    "## Parámetros\n",
    "\n",
    "--------------------------"
   ]
  },
  {
   "cell_type": "markdown",
   "metadata": {},
   "source": [
    "### Tipos de modelo\n",
    "\n",
    "Existen dos configuraciones para los modelos a generar. El **Modelo global** toma todos los vuelos y aerolíneas que se encuentren en el dataset para entrenar el modelo, mientras que el **Modelo Carrier** solo toma los vuelos de una aerolínea en particular, la cual debe eser específicada como parámetro de entrada.\n",
    "\n",
    "Los nombres de los parámetros son:\n",
    "\n",
    "- Global\n",
    "- Carrier"
   ]
  },
  {
   "cell_type": "code",
   "execution_count": 1,
   "metadata": {},
   "outputs": [],
   "source": [
    "model_type = 'Global'"
   ]
  },
  {
   "cell_type": "markdown",
   "metadata": {},
   "source": [
    "### Características\n",
    "\n",
    "Independiente de si se ha seleccionado el modelo global o uno por aerolínea, el modelo se entrenará y creará con tres posibles opciones que agrupan las siguientes características:\n",
    "\n",
    "- **base**\n",
    " - LATITUDE_meters\n",
    " - LONGITUDE_meters\n",
    " - Velocity\n",
    " - Angle_V\n",
    " - dist_Tbar'\n",
    "- **extend**: Las mismas características de **base** más:\n",
    " - Acceleration\n",
    " - Angle_A\n",
    "- **wind**: Las mismas características de **base** más:\n",
    " - Velocity_p: Proyección del vector de la velocidad del viento sobre el vector de la velocidad del avión."
   ]
  },
  {
   "cell_type": "code",
   "execution_count": 2,
   "metadata": {},
   "outputs": [],
   "source": [
    "features = 'base'"
   ]
  },
  {
   "cell_type": "markdown",
   "metadata": {},
   "source": [
    "### Opciones para guardar el modelo\n",
    "\n",
    "Debe ingresar el nombre para el modelo y la ruta en donde será guardado. Por defecto, el nombre del modelo irá concatenado con el tipo de modelo seleccionado y las características seleccionadas, por ejemplo, **model01_Global_base.pkl**\n",
    "\n",
    "\n",
    "- **save**:\n",
    " - 0: No guardar modelo\n",
    " - 1: Guardar modelo\n",
    "- **name_model**\n",
    "- **path_save**: ruta donde se almacenará el modelo"
   ]
  },
  {
   "cell_type": "code",
   "execution_count": 3,
   "metadata": {},
   "outputs": [],
   "source": [
    "save = 1\n",
    "name_model = 'model_1'\n",
    "path_save = 'model/'"
   ]
  },
  {
   "cell_type": "markdown",
   "metadata": {},
   "source": [
    "### Dataset\n",
    "\n",
    "En esta sección se especifica la ruta del dataset preprocesado y dependiento del tipo de modelo seleccionado, se debe ingresar los parámetros **n_flights** ó **name_carrier**. \n",
    "\n",
    "_________________\n",
    "**Ruta**\n",
    "- **path_dataset**: Ruta donde se encuentra el dataset.\n",
    "\n",
    "_________________\n",
    "**Para modelo Global**\n",
    "- **n_flights**: Número de vuelos a seleccionar del dataset.\n",
    "\n",
    "En la sección de **Error - Random Forest Model** se muestra el número máximo de vuelos que contiene el dataset.\n",
    "_________________\n",
    "**Para modelo por Aerolinea**\n",
    "- **name_carrier**: Nombre de la aerolinea."
   ]
  },
  {
   "cell_type": "code",
   "execution_count": 4,
   "metadata": {},
   "outputs": [],
   "source": [
    "path_dataset = 'datasets/budapest.csv'"
   ]
  },
  {
   "cell_type": "code",
   "execution_count": 5,
   "metadata": {},
   "outputs": [],
   "source": [
    "# Si ha seleccionado el modelo Global debe especificar el número de vuelos.\n",
    "if model_type == 'Global':\n",
    "    n_flights = 300\n",
    "\n",
    "# Si ha seleccinado el modelo Carrier debe especificar el nombre de la aerolínea.\n",
    "if model_type == 'Carrier':\n",
    "    name_carrier = 'WZZ'"
   ]
  },
  {
   "cell_type": "markdown",
   "metadata": {},
   "source": [
    "-------------------------------"
   ]
  },
  {
   "cell_type": "markdown",
   "metadata": {},
   "source": [
    "## Generación del modelo según los parámetros especificados"
   ]
  },
  {
   "cell_type": "code",
   "execution_count": 6,
   "metadata": {},
   "outputs": [],
   "source": [
    "%matplotlib inline\n",
    "import matplotlib.pyplot as plt\n",
    "import pandas as pd\n",
    "import numpy as np\n",
    "import math\n",
    "\n",
    "\n",
    "from sklearn.ensemble import RandomForestRegressor\n",
    "from sklearn.model_selection import GridSearchCV\n",
    "from sklearn.model_selection import GroupShuffleSplit\n",
    "from sklearn.model_selection import learning_curve\n",
    "from sklearn.metrics import mean_absolute_error, make_scorer, r2_score\n",
    "\n",
    "\n",
    "from sklearn.externals import joblib\n",
    "\n",
    "import warnings\n",
    "warnings.filterwarnings('ignore')"
   ]
  },
  {
   "cell_type": "markdown",
   "metadata": {},
   "source": [
    "-------------------------\n",
    "### Funciones\n",
    "\n",
    "-------------------------"
   ]
  },
  {
   "cell_type": "code",
   "execution_count": 7,
   "metadata": {},
   "outputs": [],
   "source": [
    "%run functions_generate.py"
   ]
  },
  {
   "cell_type": "markdown",
   "metadata": {},
   "source": [
    "----------------------\n",
    "### Read dataset\n",
    "\n",
    "----------------------"
   ]
  },
  {
   "cell_type": "code",
   "execution_count": 8,
   "metadata": {},
   "outputs": [],
   "source": [
    "if model_type == 'Global':\n",
    "    data_base = pd.read_csv(path_dataset, index_col=0)\n",
    "    data_base = data_base.reset_index(drop=True)\n",
    "    max_fligts = len(data_base['ID'].drop_duplicates())\n",
    "    data = read_flights(data_base, n_flights)\n",
    "    data = data.reset_index(drop=True)\n",
    "    del data_base\n",
    "    groups = data['ID']\n",
    "    models_gp = data['AC_REAL_MODEL']\n",
    "    callsign_gp = data['CALLSIGN']\n",
    "    carrier = get_carries(callsign_gp)\n",
    "    carrier = carrier.reset_index(drop=True)\n",
    "elif model_type == 'Carrier':\n",
    "    data = pd.read_csv(path_dataset, index_col=0)\n",
    "    data = data.reset_index(drop=True)\n",
    "    max_fligts = len(data['ID'].drop_duplicates())\n",
    "    callsign_gp = data['CALLSIGN']\n",
    "    carrier = get_carries(callsign_gp)\n",
    "    carrier = carrier.reset_index(drop=True)\n",
    "    data = pd.concat([data, carrier], axis=1)\n",
    "    data = data.reset_index(drop=True)\n",
    "    data = data[data['Carrier'] == name_carrier]\n",
    "    data = data.reset_index(drop=True)\n",
    "    groups = data['ID']\n",
    "    models_gp = data['AC_REAL_MODEL'] "
   ]
  },
  {
   "cell_type": "markdown",
   "metadata": {},
   "source": [
    "--------------------------\n",
    "### Read Features\n",
    "\n",
    "--------------------------"
   ]
  },
  {
   "cell_type": "code",
   "execution_count": 9,
   "metadata": {},
   "outputs": [],
   "source": [
    "if features == 'base':\n",
    "    X = data[['LATITUDE_meters', \n",
    "              'LONGITUDE_meters', \n",
    "              'Velocity', \n",
    "              'Angle_V',\n",
    "              'dist_Tbar']]\n",
    "elif features == 'extend':\n",
    "    X = data[['LATITUDE_meters', \n",
    "              'LONGITUDE_meters', \n",
    "              'Velocity', \n",
    "              'Angle_V',\n",
    "              'Acceleration', \n",
    "              'Angle_A',\n",
    "              'dist_Tbar']]    \n",
    "elif features == 'wind':\n",
    "    X = data[['LATITUDE_meters', \n",
    "              'LONGITUDE_meters', \n",
    "              'Velocity', \n",
    "              'Angle_V',\n",
    "              'Velocity_p',\n",
    "              'dist_Tbar']]\n",
    "    \n",
    "y = data['Target_sec']"
   ]
  },
  {
   "cell_type": "markdown",
   "metadata": {},
   "source": [
    "---------------------\n",
    "# Random Forest Model\n",
    "\n",
    "---------------------\n"
   ]
  },
  {
   "cell_type": "code",
   "execution_count": 10,
   "metadata": {},
   "outputs": [],
   "source": [
    "model_rfr = RandomForestRegressor(bootstrap=True, criterion='mse', max_depth=None,\n",
    "           max_features='auto', max_leaf_nodes=None,\n",
    "           min_impurity_decrease=0.0, min_impurity_split=None,\n",
    "           min_samples_leaf=10, min_samples_split=2,\n",
    "           min_weight_fraction_leaf=0.0, n_estimators=250, n_jobs=-1,\n",
    "           oob_score=False, random_state=None, verbose=0, warm_start=False)"
   ]
  },
  {
   "cell_type": "code",
   "execution_count": 11,
   "metadata": {},
   "outputs": [
    {
     "data": {
      "text/plain": [
       "RandomForestRegressor(bootstrap=True, criterion='mse', max_depth=None,\n",
       "           max_features='auto', max_leaf_nodes=None,\n",
       "           min_impurity_decrease=0.0, min_impurity_split=None,\n",
       "           min_samples_leaf=10, min_samples_split=2,\n",
       "           min_weight_fraction_leaf=0.0, n_estimators=250, n_jobs=-1,\n",
       "           oob_score=False, random_state=None, verbose=0, warm_start=False)"
      ]
     },
     "execution_count": 11,
     "metadata": {},
     "output_type": "execute_result"
    }
   ],
   "source": [
    "model_rfr.fit(X, y)"
   ]
  },
  {
   "cell_type": "markdown",
   "metadata": {},
   "source": [
    "-------------\n",
    "## Error - Random Forest Model\n",
    "-------------"
   ]
  },
  {
   "cell_type": "code",
   "execution_count": 12,
   "metadata": {},
   "outputs": [],
   "source": [
    "y_pred = model_rfr.predict(X)"
   ]
  },
  {
   "cell_type": "code",
   "execution_count": 13,
   "metadata": {},
   "outputs": [
    {
     "name": "stdout",
     "output_type": "stream",
     "text": [
      "Mean absolute error Test: 16.68 seconds\n"
     ]
    }
   ],
   "source": [
    "# The mean squared error\n",
    "print('Mean absolute error Test: %.2f' % mean_absolute_error(y, y_pred) + ' seconds')"
   ]
  },
  {
   "cell_type": "markdown",
   "metadata": {},
   "source": [
    "**NOTA:** El Mean absolute error Test que se obtiene aquí debe estar muy cercano al que se obtiene al ejecutar el Notebook correspondiente a dicho modelo.\n",
    "\n",
    "Los valores no son identicos debido a que no se toma siempre los mismo vuelos para el entrenamiento del modelo.\n",
    "\n",
    "**El número máximo de vuelos en este dataset** "
   ]
  },
  {
   "cell_type": "code",
   "execution_count": 14,
   "metadata": {},
   "outputs": [
    {
     "name": "stdout",
     "output_type": "stream",
     "text": [
      "Número de vuelos en el dataset:  1892\n"
     ]
    }
   ],
   "source": [
    "print('Número de vuelos en el dataset: ', max_fligts)"
   ]
  },
  {
   "cell_type": "markdown",
   "metadata": {},
   "source": [
    "----------------\n",
    "## Save model\n",
    "\n",
    "----------------"
   ]
  },
  {
   "cell_type": "code",
   "execution_count": 15,
   "metadata": {},
   "outputs": [],
   "source": [
    "if save == 1:\n",
    "    joblib.dump(model_rfr, path_save  + name_model + '_' + model_type + '_' + features + '.pkl') \n"
   ]
  },
  {
   "cell_type": "code",
   "execution_count": null,
   "metadata": {},
   "outputs": [],
   "source": []
  }
 ],
 "metadata": {
  "kernelspec": {
   "display_name": "Python 3",
   "language": "python",
   "name": "python3"
  },
  "language_info": {
   "codemirror_mode": {
    "name": "ipython",
    "version": 3
   },
   "file_extension": ".py",
   "mimetype": "text/x-python",
   "name": "python",
   "nbconvert_exporter": "python",
   "pygments_lexer": "ipython3",
   "version": "3.6.3"
  }
 },
 "nbformat": 4,
 "nbformat_minor": 2
}
